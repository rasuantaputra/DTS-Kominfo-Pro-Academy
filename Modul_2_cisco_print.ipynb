{
  "nbformat": 4,
  "nbformat_minor": 0,
  "metadata": {
    "colab": {
      "name": "Modul 2_cisco_print.ipynb",
      "provenance": [],
      "collapsed_sections": [
        "dPbyMXLIfwWN",
        "eoSsWai-KB0a",
        "NBE1FRRfMRHj",
        "XEHsk5wdPFn5",
        "kW3HRBbH0gFU",
        "0xpvSQCD2rVy"
      ],
      "authorship_tag": "ABX9TyMWLF0pbK/xNq8XwJpC/D1F",
      "include_colab_link": true
    },
    "kernelspec": {
      "name": "python3",
      "display_name": "Python 3"
    },
    "language_info": {
      "name": "python"
    }
  },
  "cells": [
    {
      "cell_type": "markdown",
      "metadata": {
        "id": "view-in-github",
        "colab_type": "text"
      },
      "source": [
        "<a href=\"https://colab.research.google.com/github/rasuantaputra/DTS-Kominfo-Pro-Academy/blob/main/Modul_2_cisco_print.ipynb\" target=\"_parent\"><img src=\"https://colab.research.google.com/assets/colab-badge.svg\" alt=\"Open In Colab\"/></a>"
      ]
    },
    {
      "cell_type": "code",
      "execution_count": null,
      "metadata": {
        "id": "IZOMy4-LxuFV",
        "colab": {
          "base_uri": "https://localhost:8080/"
        },
        "outputId": "627e5dcc-4c8d-4589-cff4-e6db1e421da8"
      },
      "outputs": [
        {
          "output_type": "stream",
          "name": "stdout",
          "text": [
            "Hello, world!\n"
          ]
        }
      ],
      "source": [
        "print('Hello, world!')"
      ]
    },
    {
      "cell_type": "code",
      "source": [
        "print('Hello, Python')"
      ],
      "metadata": {
        "colab": {
          "base_uri": "https://localhost:8080/"
        },
        "id": "LkB7UtZePDHL",
        "outputId": "7311b93c-4687-498d-ae35-43eca256b86b"
      },
      "execution_count": null,
      "outputs": [
        {
          "output_type": "stream",
          "name": "stdout",
          "text": [
            "Hello, Python\n"
          ]
        }
      ]
    },
    {
      "cell_type": "code",
      "source": [
        "print('Jhon doe')"
      ],
      "metadata": {
        "colab": {
          "base_uri": "https://localhost:8080/"
        },
        "id": "HslR8W7sPxMM",
        "outputId": "f5c4a06c-350e-47fd-ffe8-60e11b39fb09"
      },
      "execution_count": null,
      "outputs": [
        {
          "output_type": "stream",
          "name": "stdout",
          "text": [
            "Jhon doe\n"
          ]
        }
      ]
    },
    {
      "cell_type": "markdown",
      "source": [
        "###Print new line\n",
        "\n",
        "There are two very subtle changes - we've inserted a strange pair of characters inside the rhyme. They look like this: \\n."
      ],
      "metadata": {
        "id": "dPbyMXLIfwWN"
      }
    },
    {
      "cell_type": "code",
      "source": [
        "print(\"The itsy bitsy spider\\nclimbed up the waterspout.\")\n",
        "print()\n",
        "print(\"Down came the rain\\nand washed the spider out.\")"
      ],
      "metadata": {
        "colab": {
          "base_uri": "https://localhost:8080/"
        },
        "id": "px0NGdezQH4a",
        "outputId": "e953de17-754d-463a-81e1-2f5b0f1d995e"
      },
      "execution_count": null,
      "outputs": [
        {
          "output_type": "stream",
          "name": "stdout",
          "text": [
            "The itsy bitsy spider\n",
            "climbed up the waterspout.\n",
            "\n",
            "Down came the rain\n",
            "and washed the spider out.\n"
          ]
        }
      ]
    },
    {
      "cell_type": "markdown",
      "source": [
        "###The print() function - the escape and newline characters\n",
        "\n",
        "This convention has two important consequences:\n",
        "\n",
        "1. If you want to put just one backslash inside a string, don't forget its escaping nature - you have to double it, e.g., such an invocation will cause an error:\n",
        "    ```\n",
        "    # print('\\')\n",
        "    ```\n",
        "\n",
        "    while this one won't:\n",
        "    ```\n",
        "    # print(\"\\\\\")\n",
        "    ```\n",
        "\n",
        "2. Not all escape pairs (the backslash coupled with another character) mean something.\n",
        "\n",
        "Experiment with your code in the editor, run it, and see what happens."
      ],
      "metadata": {
        "id": "eoSsWai-KB0a"
      }
    },
    {
      "cell_type": "code",
      "source": [
        "print(\"The itsy bitsy spider clim\\\\bed up the waterspout.\")"
      ],
      "metadata": {
        "id": "t05MWuoMf5jb",
        "colab": {
          "base_uri": "https://localhost:8080/"
        },
        "outputId": "9a6209c9-8f41-41fa-c9ee-2c3b93e43fad"
      },
      "execution_count": null,
      "outputs": [
        {
          "output_type": "stream",
          "name": "stdout",
          "text": [
            "The itsy bitsy spider clim\\bed up the waterspout.\n"
          ]
        }
      ]
    },
    {
      "cell_type": "markdown",
      "source": [
        "###The print() function - using multiple arguments"
      ],
      "metadata": {
        "id": "NBE1FRRfMRHj"
      }
    },
    {
      "cell_type": "code",
      "source": [
        "print('The itsy bitsy spider' , 'climbed up' , 'the waterspout.')"
      ],
      "metadata": {
        "colab": {
          "base_uri": "https://localhost:8080/"
        },
        "id": "pVMItPi8LA5R",
        "outputId": "f7eb5d75-1b44-4771-d5bc-3e17b12879b3"
      },
      "execution_count": null,
      "outputs": [
        {
          "output_type": "stream",
          "name": "stdout",
          "text": [
            "The itsy bitsy spider climbed up the waterspout.\n"
          ]
        }
      ]
    },
    {
      "cell_type": "markdown",
      "source": [
        "###The print() function - the keyword arguments\n",
        "\n",
        "The \"**print()**\" function has two keyword arguments that you can use for your purposes. The first of them is named \"**end**\".\n",
        "\n",
        "In order to use it, it is necessary to know some rules:\n",
        "\n",
        "a keyword argument consists of three elements: \n",
        "\n",
        "*   a keyword identifying the argument (**end** here); an equal sign (**=**); and a value assigned to that argument;\n",
        "*   any keyword arguments have to be put after the last positional argument (this is very important)\n",
        "\n",
        "The default behavior reflects the situation where the end keyword argument is implicitly used in the following way: end=\"\\n\"."
      ],
      "metadata": {
        "id": "XEHsk5wdPFn5"
      }
    },
    {
      "cell_type": "code",
      "source": [
        "print(\"My name is\", \"Python.\", end=\"\")\n",
        "print(\"Monty Python.\")\n",
        "\n",
        "print('=========')\n",
        "\n",
        "print(\"My name is\", \"Python.\", end=\" \")\n",
        "print(\"Monty Python.\")\n",
        "\n",
        "print('=========')\n",
        "\n",
        "print(\"My name is\", \"Python.\", end=\"\\n\")\n",
        "print(\"Monty Python.\")"
      ],
      "metadata": {
        "colab": {
          "base_uri": "https://localhost:8080/"
        },
        "id": "byJ84_1rMdmM",
        "outputId": "db1dd17d-a071-4232-95ad-77b0a29870a5"
      },
      "execution_count": null,
      "outputs": [
        {
          "output_type": "stream",
          "name": "stdout",
          "text": [
            "My name is Python.Monty Python.\n",
            "=========\n",
            "My name is Python. Monty Python.\n",
            "=========\n",
            "My name is Python.\n",
            "Monty Python.\n"
          ]
        }
      ]
    },
    {
      "cell_type": "markdown",
      "source": [
        "###keyword argument **sep**\n",
        "\n",
        "The keyword argument that can do this is named **sep** (*like separator*)."
      ],
      "metadata": {
        "id": "kW3HRBbH0gFU"
      }
    },
    {
      "cell_type": "code",
      "source": [
        "print(\"My\", \"name\", \"is\", \"Monty\", \"Python.\", sep=\"-\")\n",
        "\n",
        "print('=========')\n",
        "\n",
        "print(\"My\", \"name\", \"is\", \"Monty\", \"Python.\", sep=\" \")\n",
        "\n",
        "print('=========')\n",
        "\n",
        "print(\"My\", \"name\", \"is\", \"Monty\", \"Python.\", sep=\"\")"
      ],
      "metadata": {
        "colab": {
          "base_uri": "https://localhost:8080/"
        },
        "id": "0ZhEU7SbOoN3",
        "outputId": "d1cfb9be-190d-444f-f37c-f46692e28c3a"
      },
      "execution_count": null,
      "outputs": [
        {
          "output_type": "stream",
          "name": "stdout",
          "text": [
            "My-name-is-Monty-Python.\n",
            "=========\n",
            "My name is Monty Python.\n",
            "=========\n",
            "MynameisMontyPython.\n"
          ]
        }
      ]
    },
    {
      "cell_type": "markdown",
      "source": [
        "###Mixed keyword arguments in one invocation\n",
        "\n",
        "Both keyword arguments may be mixed in one invocation, just like here in the editor window.\n",
        "\n",
        "The example doesn't make much sense, but it visibly presents the interactions between **end** and **sep**."
      ],
      "metadata": {
        "id": "0xpvSQCD2rVy"
      }
    },
    {
      "cell_type": "code",
      "source": [
        "print(\"My\", \"name\", \"is\", sep=\"_\", end=\"*\")\n",
        "print(\"Monty\", \"Python.\", sep=\"*\", end=\"*\\n\")"
      ],
      "metadata": {
        "colab": {
          "base_uri": "https://localhost:8080/"
        },
        "id": "yq2572kv24gY",
        "outputId": "c0e99aa8-30bb-4c56-8ecc-fe03edd9e8c9"
      },
      "execution_count": null,
      "outputs": [
        {
          "output_type": "stream",
          "name": "stdout",
          "text": [
            "My_name_is*Monty*Python.*\n"
          ]
        }
      ]
    },
    {
      "cell_type": "markdown",
      "source": [
        "###LAB\n",
        "\n",
        "**Estimated time**\n",
        "\n",
        "5-10 minutes\n",
        "\n",
        "**Level of difficulty**\n",
        "\n",
        "Very Easy\n",
        "\n",
        "**Objectives**\n",
        "\n",
        "\n",
        "*   becoming familiar with the **print()** function and its formatting capabilities;\n",
        "*   experimenting with Python code.\n",
        "\n",
        "**Scenario**\n",
        "\n",
        "Modify the first line of code in the editor, using the **sep** and **end** keywords, to match the expected output. Use the two **print()** functions in the editor.\n",
        "\n",
        "Don't change anything in the second **print()** invocation.\n",
        "\n",
        "**Expected output**\n",
        "\n",
        "```\n",
        "# Programming***Essentials***in...Python\n",
        "```"
      ],
      "metadata": {
        "id": "Kbn5P6V34Gx4"
      }
    },
    {
      "cell_type": "code",
      "source": [
        "print(\"Programming\",\"Essentials\",\"in\",sep='***',end='...')\n",
        "print(\"Python\")"
      ],
      "metadata": {
        "colab": {
          "base_uri": "https://localhost:8080/"
        },
        "id": "fjkSodUe26G5",
        "outputId": "51fc15c8-0f7e-4c22-a6c4-df9ba315eaa9"
      },
      "execution_count": null,
      "outputs": [
        {
          "output_type": "stream",
          "name": "stdout",
          "text": [
            "Programming***Essentials***in...Python\n"
          ]
        }
      ]
    },
    {
      "cell_type": "markdown",
      "source": [
        "###LAB\n",
        "\n",
        "**Estimated time**\n",
        "\n",
        "5-10 minutes\n",
        "\n",
        "**Level of difficulty**\n",
        "\n",
        "Easy\n",
        "\n",
        "**Objectives**\n",
        "\n",
        "\n",
        "*   experimenting with existing Python code;\n",
        "*   discovering and fixing basic syntax errors;\n",
        "*   becoming familiar with the print() function and its formatting capabilities.\n",
        "\n",
        "**Scenario**\n",
        "\n",
        "We strongly encourage you to play with the code we've written for you, and make some (maybe even destructive) amendments. Feel free to modify any part of the code, but there is one condition - learn from your mistakes and draw your own conclusions.\n",
        "\n",
        "Try to:\n",
        "\n",
        "\n",
        "*   minimize the number of **print()** function invocations by inserting the **\\n** sequence into the strings\n",
        "*   make the arrow twice as large (but keep the proportions)\n",
        "*   duplicate the arrow, placing both arrows side by side; note: a string may be multiplied by using the following trick: **\"string\" * 2**  will produce **\"stringstring\"** (we'll tell you more about it soon)\n",
        "*   remove any of the quotes, and look carefully at Python's response; pay attention to where Python sees an error - is this the place where the error really exists?\n",
        "* do the same with some of the parentheses;\n",
        "* change any of the **print** words into something else, differing only in case (e.g., **Print**) - what happens now?\n",
        "* replace some of the quotes with apostrophes; watch what happens carefully.\n",
        "\n",
        "**Code for modified**\n",
        "\n",
        "\n",
        "```\n",
        "# print(\"    *\")\n",
        "# print(\"   * *\")\n",
        "# print(\"  *   *\")\n",
        "# print(\" *     *\")\n",
        "# print(\"***   ***\")\n",
        "# print(\"  *   *\")\n",
        "# print(\"  *   *\")\n",
        "# print(\"  *****\")\n",
        "```\n",
        "\n"
      ],
      "metadata": {
        "id": "UCaD3ASc47UN"
      }
    },
    {
      "cell_type": "code",
      "source": [
        "# minimize the number of print() function invocations by inserting the \\n sequence into the strings\n",
        "\n",
        "print(\"     *\\n\", \n",
        "      \"   * *\\n\",\n",
        "      \"  *   *\\n\", \n",
        "      \" *     *\\n\", \n",
        "      \"***   ***\\n\",\n",
        "      \"  *   *\\n\",\n",
        "      \"  *   *\\n\",\n",
        "      \"  *****\")"
      ],
      "metadata": {
        "colab": {
          "base_uri": "https://localhost:8080/"
        },
        "id": "ZxjJCsDR3mP2",
        "outputId": "9013aacc-ba55-4ba5-8448-0c989ce78d82"
      },
      "execution_count": null,
      "outputs": [
        {
          "output_type": "stream",
          "name": "stdout",
          "text": [
            "     *\n",
            "    * *\n",
            "   *   *\n",
            "  *     *\n",
            " ***   ***\n",
            "   *   *\n",
            "   *   *\n",
            "   *****\n"
          ]
        }
      ]
    },
    {
      "cell_type": "code",
      "source": [
        "# make the arrow twice as large (but keep the proportions)\n",
        "\n",
        "print(\"      *\\n\", \n",
        "      \"   *   *\\n\",\n",
        "      \"  *     *\\n\", \n",
        "      \" *       *\\n\", \n",
        "      \"***     ***\\n\",\n",
        "      \"  *     *\\n\",\n",
        "      \"  *     *\\n\",\n",
        "      \"  *******\")"
      ],
      "metadata": {
        "colab": {
          "base_uri": "https://localhost:8080/"
        },
        "id": "--RnhKrGEyR9",
        "outputId": "eff8d841-0316-4fd9-a774-88a2024db106"
      },
      "execution_count": null,
      "outputs": [
        {
          "output_type": "stream",
          "name": "stdout",
          "text": [
            "      *\n",
            "    *   *\n",
            "   *     *\n",
            "  *       *\n",
            " ***     ***\n",
            "   *     *\n",
            "   *     *\n",
            "   *******\n"
          ]
        }
      ]
    },
    {
      "cell_type": "code",
      "source": [
        "# duplicate the arrow, placing both arrows side by side; \n",
        "# note: a string may be multiplied by using the following trick: \n",
        "# \"string\" * 2 will produce \"stringstring\" (we'll tell you more about it soon)\n",
        "\n"
      ],
      "metadata": {
        "id": "D0ZHJD1wFClX"
      },
      "execution_count": null,
      "outputs": []
    },
    {
      "cell_type": "code",
      "source": [
        ""
      ],
      "metadata": {
        "id": "5lX0NrfKF-wR"
      },
      "execution_count": null,
      "outputs": []
    }
  ]
}